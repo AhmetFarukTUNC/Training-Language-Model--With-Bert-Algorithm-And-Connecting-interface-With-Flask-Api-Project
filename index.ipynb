{
 "cells": [
  {
   "cell_type": "markdown",
   "id": "f9d6a2a1",
   "metadata": {},
   "source": [
    "# Veri setimizde 851 tane veri bulunmaktadır ve 2 sütundan oluşmaktadır.Veri setimizde Haber,makale ve video içeriklerinden alınmış 851 tane text bulunmaktadır.Bu metinlerin karşılarında etiket olarak çocuğun karşısına çıkarılıp çıkarılamayacağını belirten adult veye non-adult şeklinde etiketler bulunmaktadır. "
   ]
  },
  {
   "cell_type": "markdown",
   "id": "288a1342",
   "metadata": {},
   "source": [
    "# Excel dosyaısnın csv'ye dönüştürülmesi"
   ]
  },
  {
   "cell_type": "markdown",
   "id": "20d9b1e2",
   "metadata": {},
   "source": [
    "# Bu kısımda excel formatındaki veriler csv formatına dönüştürülmüştür."
   ]
  },
  {
   "cell_type": "code",
   "execution_count": 1,
   "id": "4a3b3404",
   "metadata": {},
   "outputs": [],
   "source": [
    "import pandas as pd\n",
    "\n",
    "# Excel dosyasını oku\n",
    "excel_dosyasi = \"final_adult_content.xlsx\"  # dosya adını buraya yaz\n",
    "df = pd.read_excel(excel_dosyasi)\n",
    "\n",
    "# CSV olarak kaydet\n",
    "df.to_csv(\"veriler.csv\", index=False)\n"
   ]
  },
  {
   "cell_type": "markdown",
   "id": "a29c303d",
   "metadata": {},
   "source": [
    "# Veri Setinin İlk 5 satırının Ekranda Gösterilmesi"
   ]
  },
  {
   "cell_type": "markdown",
   "id": "86505b05",
   "metadata": {},
   "source": [
    "# Oluşturulan csv dosyasının ilk 5 satırı ekranda gösterilmektedir."
   ]
  },
  {
   "cell_type": "code",
   "execution_count": 2,
   "id": "73af7d16",
   "metadata": {},
   "outputs": [
    {
     "data": {
      "text/html": [
       "<div>\n",
       "<style scoped>\n",
       "    .dataframe tbody tr th:only-of-type {\n",
       "        vertical-align: middle;\n",
       "    }\n",
       "\n",
       "    .dataframe tbody tr th {\n",
       "        vertical-align: top;\n",
       "    }\n",
       "\n",
       "    .dataframe thead th {\n",
       "        text-align: right;\n",
       "    }\n",
       "</style>\n",
       "<table border=\"1\" class=\"dataframe\">\n",
       "  <thead>\n",
       "    <tr style=\"text-align: right;\">\n",
       "      <th></th>\n",
       "      <th>Description</th>\n",
       "      <th>Category</th>\n",
       "    </tr>\n",
       "  </thead>\n",
       "  <tbody>\n",
       "    <tr>\n",
       "      <th>0</th>\n",
       "      <td>Washington Correspondent New York Magazine Wri...</td>\n",
       "      <td>Non_Adult</td>\n",
       "    </tr>\n",
       "    <tr>\n",
       "      <th>1</th>\n",
       "      <td>Host of NPR s Pop Culture Happy Hour Author NY...</td>\n",
       "      <td>Non_Adult</td>\n",
       "    </tr>\n",
       "    <tr>\n",
       "      <th>2</th>\n",
       "      <td>Gay Men Ring Free gay tube for mature gay men ...</td>\n",
       "      <td>Adult</td>\n",
       "    </tr>\n",
       "    <tr>\n",
       "      <th>3</th>\n",
       "      <td>SeeMomSuck is packed with the best Amateur Ste...</td>\n",
       "      <td>Adult</td>\n",
       "    </tr>\n",
       "    <tr>\n",
       "      <th>4</th>\n",
       "      <td>xReview com provides in depth porn site review...</td>\n",
       "      <td>Adult</td>\n",
       "    </tr>\n",
       "  </tbody>\n",
       "</table>\n",
       "</div>"
      ],
      "text/plain": [
       "                                         Description   Category\n",
       "0  Washington Correspondent New York Magazine Wri...  Non_Adult\n",
       "1  Host of NPR s Pop Culture Happy Hour Author NY...  Non_Adult\n",
       "2  Gay Men Ring Free gay tube for mature gay men ...      Adult\n",
       "3  SeeMomSuck is packed with the best Amateur Ste...      Adult\n",
       "4  xReview com provides in depth porn site review...      Adult"
      ]
     },
     "execution_count": 2,
     "metadata": {},
     "output_type": "execute_result"
    }
   ],
   "source": [
    "df.head()"
   ]
  },
  {
   "cell_type": "markdown",
   "id": "d1f23fc2",
   "metadata": {},
   "source": [
    "# Veri Ön işleme Adımları"
   ]
  },
  {
   "cell_type": "markdown",
   "id": "46208e6c",
   "metadata": {},
   "source": [
    "# Bu kısımda csv dosyasındaki boş olan kısımlar temizlenmiş ve etiketleri 0 non-adult(yetişkin değil) 1 adult(yetişkin) şeklinde sayısallaştırılmıştır."
   ]
  },
  {
   "cell_type": "code",
   "execution_count": 3,
   "id": "90251e48",
   "metadata": {},
   "outputs": [],
   "source": [
    "import pandas as pd\n",
    "\n",
    "# Veriyi oku\n",
    "df = pd.read_csv(\"veriler.csv\")  # Dosya adını kendi CSV dosyana göre değiştir\n",
    "\n",
    "# NaN verileri sil ve gerekli sütunları al\n",
    "df = df[['Description', 'Category']].dropna()\n",
    "\n",
    "# Etiketleri sayısal değerlere dönüştür\n",
    "df['label'] = df['Category'].map({'Non_Adult': 0, 'Adult': 1})\n",
    "df = df.drop(columns=['Category'])\n",
    "\n"
   ]
  },
  {
   "cell_type": "markdown",
   "id": "c75736bd",
   "metadata": {},
   "source": [
    "# Veri ön işlemeden sonraki veri seti"
   ]
  },
  {
   "cell_type": "markdown",
   "id": "2c2e64a6",
   "metadata": {},
   "source": [
    "# Bu kısımda veri ön işlemeden sonraki veri setinin yeni halini görmektesiniz."
   ]
  },
  {
   "cell_type": "code",
   "execution_count": 4,
   "id": "69d8bf22",
   "metadata": {},
   "outputs": [
    {
     "data": {
      "text/html": [
       "<div>\n",
       "<style scoped>\n",
       "    .dataframe tbody tr th:only-of-type {\n",
       "        vertical-align: middle;\n",
       "    }\n",
       "\n",
       "    .dataframe tbody tr th {\n",
       "        vertical-align: top;\n",
       "    }\n",
       "\n",
       "    .dataframe thead th {\n",
       "        text-align: right;\n",
       "    }\n",
       "</style>\n",
       "<table border=\"1\" class=\"dataframe\">\n",
       "  <thead>\n",
       "    <tr style=\"text-align: right;\">\n",
       "      <th></th>\n",
       "      <th>Description</th>\n",
       "      <th>label</th>\n",
       "    </tr>\n",
       "  </thead>\n",
       "  <tbody>\n",
       "    <tr>\n",
       "      <th>0</th>\n",
       "      <td>Washington Correspondent New York Magazine Wri...</td>\n",
       "      <td>0</td>\n",
       "    </tr>\n",
       "    <tr>\n",
       "      <th>1</th>\n",
       "      <td>Host of NPR s Pop Culture Happy Hour Author NY...</td>\n",
       "      <td>0</td>\n",
       "    </tr>\n",
       "    <tr>\n",
       "      <th>2</th>\n",
       "      <td>Gay Men Ring Free gay tube for mature gay men ...</td>\n",
       "      <td>1</td>\n",
       "    </tr>\n",
       "    <tr>\n",
       "      <th>3</th>\n",
       "      <td>SeeMomSuck is packed with the best Amateur Ste...</td>\n",
       "      <td>1</td>\n",
       "    </tr>\n",
       "    <tr>\n",
       "      <th>4</th>\n",
       "      <td>xReview com provides in depth porn site review...</td>\n",
       "      <td>1</td>\n",
       "    </tr>\n",
       "    <tr>\n",
       "      <th>...</th>\n",
       "      <td>...</td>\n",
       "      <td>...</td>\n",
       "    </tr>\n",
       "    <tr>\n",
       "      <th>845</th>\n",
       "      <td>Free downloads of mobile porn in 3gp mp4 video...</td>\n",
       "      <td>0</td>\n",
       "    </tr>\n",
       "    <tr>\n",
       "      <th>846</th>\n",
       "      <td>Your Daily Girls features new porn galleries u...</td>\n",
       "      <td>0</td>\n",
       "    </tr>\n",
       "    <tr>\n",
       "      <th>847</th>\n",
       "      <td>Tweeting breaking news from CTVNews ca in the ...</td>\n",
       "      <td>1</td>\n",
       "    </tr>\n",
       "    <tr>\n",
       "      <th>848</th>\n",
       "      <td>Political editor Nine News Co author of The Ma...</td>\n",
       "      <td>1</td>\n",
       "    </tr>\n",
       "    <tr>\n",
       "      <th>849</th>\n",
       "      <td>Booble is an unbiased adult porn search engine...</td>\n",
       "      <td>0</td>\n",
       "    </tr>\n",
       "  </tbody>\n",
       "</table>\n",
       "<p>850 rows × 2 columns</p>\n",
       "</div>"
      ],
      "text/plain": [
       "                                           Description  label\n",
       "0    Washington Correspondent New York Magazine Wri...      0\n",
       "1    Host of NPR s Pop Culture Happy Hour Author NY...      0\n",
       "2    Gay Men Ring Free gay tube for mature gay men ...      1\n",
       "3    SeeMomSuck is packed with the best Amateur Ste...      1\n",
       "4    xReview com provides in depth porn site review...      1\n",
       "..                                                 ...    ...\n",
       "845  Free downloads of mobile porn in 3gp mp4 video...      0\n",
       "846  Your Daily Girls features new porn galleries u...      0\n",
       "847  Tweeting breaking news from CTVNews ca in the ...      1\n",
       "848  Political editor Nine News Co author of The Ma...      1\n",
       "849  Booble is an unbiased adult porn search engine...      0\n",
       "\n",
       "[850 rows x 2 columns]"
      ]
     },
     "execution_count": 4,
     "metadata": {},
     "output_type": "execute_result"
    }
   ],
   "source": [
    "df"
   ]
  },
  {
   "cell_type": "markdown",
   "id": "744b5260",
   "metadata": {},
   "source": [
    "#  Eğitim ve Test Setlerine Ayır"
   ]
  },
  {
   "cell_type": "markdown",
   "id": "0638dd2a",
   "metadata": {},
   "source": [
    "# Bu kısımda %20 test ve %80 eğitim olarak veri setimizi böldük."
   ]
  },
  {
   "cell_type": "code",
   "execution_count": 5,
   "id": "5ea28383",
   "metadata": {},
   "outputs": [],
   "source": [
    "from sklearn.model_selection import train_test_split\n",
    "\n",
    "train_texts, test_texts, train_labels, test_labels = train_test_split(\n",
    "    df['Description'].tolist(), df['label'].tolist(), test_size=0.2, random_state=42)\n"
   ]
  },
  {
   "cell_type": "markdown",
   "id": "3b359e2e",
   "metadata": {},
   "source": [
    "# Tokenizer (BERT) Hazırla"
   ]
  },
  {
   "cell_type": "markdown",
   "id": "4190f627",
   "metadata": {},
   "source": [
    "# BERT Tokenizer Nedir?\n",
    "\n",
    "    BERT, ham metni doğrudan anlamaz, önce metni token denilen küçük parçalara (kelimeler, kelime parçaları veya özel semboller) böler.\n",
    "\n",
    "    Bu işleme tokenization denir.\n",
    "\n",
    "    Tokenizer, metni bu tokenlara böler ve her tokena benzersiz bir sayı (ID) atar. Böylece metin, sayısal bir diziye dönüşür.."
   ]
  },
  {
   "cell_type": "markdown",
   "id": "3b490144",
   "metadata": {},
   "source": [
    "# bert-base-uncased: BERT modelinin küçük harfli (uppercase, yani büyük harf duyarsız) versiyonunun tokenizer’ını indirip kullanıyoruz.\n",
    "\n",
    "# Bu tokenizer, BERT’in eğitiminde kullanılan özel sözcük parçalama kurallarını ve kelime sözlüğünü içeriyor."
   ]
  },
  {
   "cell_type": "code",
   "execution_count": 6,
   "id": "e68cb139",
   "metadata": {},
   "outputs": [],
   "source": [
    "# Hugging Face'in Transformers kütüphanesinden BERT tokenizer'ını içe aktar\n",
    "from transformers import BertTokenizer\n",
    "\n",
    "# 'bert-base-uncased' modeline ait tokenizer'ı yükle\n",
    "# Bu tokenizer, BERT'in küçük harfli (uncased) versiyonu için eğitimde kullanılan sözcük parçalama (tokenization) kurallarını içerir\n",
    "tokenizer = BertTokenizer.from_pretrained('bert-base-uncased')\n",
    "\n",
    "# Eğitim metinlerini tokenize et\n",
    "# truncation=True → Uzun cümleleri 128 token ile sınırla (fazlasını kes)\n",
    "# padding=True → Kısa cümleleri 128 token'a eşitlemek için boşluk token'ları (padding) ekle\n",
    "# max_length=128 → Tüm girdiler için maksimum uzunluk 128 token\n",
    "train_encodings = tokenizer(train_texts, truncation=True, padding=True, max_length=128)\n",
    "\n",
    "# Test metinlerini tokenize et\n",
    "# Aynı parametrelerle test verisini de hazırla\n",
    "test_encodings = tokenizer(test_texts, truncation=True, padding=True, max_length=128)\n",
    "\n"
   ]
  },
  {
   "cell_type": "markdown",
   "id": "972ad09a",
   "metadata": {},
   "source": [
    "# Torch Dataset oluştur"
   ]
  },
  {
   "cell_type": "markdown",
   "id": "935daff6",
   "metadata": {},
   "source": [
    "# `AdultDataset` sınıfı, BERT için tokenize edilmiş metinleri ve etiketleri PyTorch tensörlerine dönüştürerek eğitim ve test verilerini `Dataset` formatına getirir. Bu sayede veriler, modelin eğitimi ve değerlendirmesi için kolayca `Trainer` veya `DataLoader` ile kullanılabilir.\n"
   ]
  },
  {
   "cell_type": "code",
   "execution_count": 7,
   "id": "d08bad71",
   "metadata": {},
   "outputs": [],
   "source": [
    "import torch\n",
    "\n",
    "# PyTorch'un Dataset sınıfını kullanarak özel bir veri seti tanımlarız\n",
    "class AdultDataset(torch.utils.data.Dataset):\n",
    "    # Sınıf başlatılırken token'lanmış veriler (encodings) ve etiketler (labels) alınır\n",
    "    def __init__(self, encodings, labels):\n",
    "        self.encodings = encodings  # Girdi verileri (input_ids, attention_mask vb.)\n",
    "        self.labels = labels        # Etiket verileri (0 veya 1 gibi sınıf bilgisi)\n",
    "\n",
    "    # Dataset'in kaç etiket içerdiğini döndürür\n",
    "    def __len__(self):\n",
    "        return len(self.labels)\n",
    "\n",
    "    # Belirli bir indeks için token'lanmış verileri ve etiketi döndürür\n",
    "    def __getitem__(self, idx):\n",
    "        # input_ids, attention_mask gibi her bir öğeyi tensor'a çevirip dict'e ekler\n",
    "        item = {key: torch.tensor(val[idx]) for key, val in self.encodings.items()}\n",
    "        # Aynı şekilde etiket de tensor olarak eklenir\n",
    "        item[\"labels\"] = torch.tensor(self.labels[idx])\n",
    "        return item\n",
    "\n",
    "# Eğitim verileri için dataset nesnesi oluşturuluyor\n",
    "train_dataset = AdultDataset(train_encodings, train_labels)\n",
    "\n",
    "\n",
    "# Test verileri için dataset nesnesi oluşturuluyor\n",
    "test_dataset = AdultDataset(test_encodings, test_labels)\n",
    "\n"
   ]
  },
  {
   "cell_type": "markdown",
   "id": "f9472a74",
   "metadata": {},
   "source": [
    "# Bert Modelini Yükle"
   ]
  },
  {
   "cell_type": "markdown",
   "id": "bb86b027",
   "metadata": {},
   "source": [
    "# Bu kod, metin sınıflandırma için önceden eğitilmiş `bert-base-uncased` modelini yükler. Modelin çıkış katmanı, iki sınıfı (örneğin \"Adult\" ve \"Non\\_Adult\") ayırt edebilecek şekilde yapılandırılır (`num_labels=2`).\n"
   ]
  },
  {
   "cell_type": "code",
   "execution_count": 8,
   "id": "d3fb4aa0",
   "metadata": {},
   "outputs": [
    {
     "name": "stderr",
     "output_type": "stream",
     "text": [
      "Some weights of BertForSequenceClassification were not initialized from the model checkpoint at bert-base-uncased and are newly initialized: ['classifier.bias', 'classifier.weight']\n",
      "You should probably TRAIN this model on a down-stream task to be able to use it for predictions and inference.\n"
     ]
    }
   ],
   "source": [
    "# Hugging Face Transformers kütüphanesinden metin sınıflandırma için BERT modelini içe aktar\n",
    "from transformers import BertForSequenceClassification\n",
    "\n",
    "# Önceden eğitilmiş 'bert-base-uncased' modelini yükle ve iki sınıflı bir çıktı katmanı ekle\n",
    "# num_labels=2 → Çıktı katmanı iki sınıf (örneğin: 'Adult' ve 'Non_Adult') için yapılandırılır\n",
    "model = BertForSequenceClassification.from_pretrained(\"bert-base-uncased\", num_labels=2)\n"
   ]
  },
  {
   "cell_type": "markdown",
   "id": "75b0aa8c",
   "metadata": {},
   "source": [
    "# Eğitim Ayarları"
   ]
  },
  {
   "cell_type": "markdown",
   "id": "88a72a91",
   "metadata": {},
   "source": [
    "# Bu kod, BERT modelinin eğitim sürecinde kullanılacak parametreleri belirler; örneğin kaç epoch çalışılacağı, batch boyutları, öğrenme oranı ısınması ve ağırlık çürümesi gibi ayarları yapar. Ayrıca eğitim ilerlemesini kaydetmek için log dosyalarının nerede tutulacağını ve kaç adımda bir log alınacağını belirtir."
   ]
  },
  {
   "cell_type": "code",
   "execution_count": 9,
   "id": "8212dbd7",
   "metadata": {},
   "outputs": [
    {
     "name": "stdout",
     "output_type": "stream",
     "text": [
      "WARNING:tensorflow:From C:\\Users\\atunc\\AppData\\Roaming\\Python\\Python312\\site-packages\\tf_keras\\src\\losses.py:2976: The name tf.losses.sparse_softmax_cross_entropy is deprecated. Please use tf.compat.v1.losses.sparse_softmax_cross_entropy instead.\n",
      "\n"
     ]
    }
   ],
   "source": [
    "from transformers import TrainingArguments  # Transformers kütüphanesinden eğitim parametrelerini ayarlamak için sınıfı içe aktarır\n",
    "\n",
    "# Model eğitimi için parametrelerin ayarlandığı sınıf örneği oluşturuluyor\n",
    "training_args = TrainingArguments(\n",
    "    output_dir=\"./results\",                # Eğitim sonunda oluşan model, checkpoint ve diğer dosyaların kaydedileceği klasör yolu\n",
    "    num_train_epochs=5,                    # Modelin eğitim verisi üzerinde kaç kere (epoch) tamamen çalışacağı (burada 3 kez)\n",
    "    per_device_train_batch_size=8,        # Eğitim sırasında her bir cihaz (GPU/CPU) için kullanılacak mini-batch büyüklüğü\n",
    "    per_device_eval_batch_size=8,         # Doğrulama (validation) sırasında her cihazda kullanılacak batch boyutu\n",
    "    warmup_steps=10,                      # Öğrenme oranının (learning rate) başlangıçta kademeli olarak artacağı adım sayısı (modelin eğitime yumuşak başlaması için)\n",
    "    weight_decay=0.01,                    # Modelin aşırı uyum (overfitting) yapmasını önlemek için ağırlıkların zamanla küçültülme oranı (L2 regularizasyonu)\n",
    "    logging_dir=\"./logs\",                 # Eğitim sürecinde oluşan log dosyalarının kaydedileceği klasör (örneğin eğitim kaybı, doğruluk gibi metrikler)\n",
    "    logging_steps=10,                     # Eğitim sırasında her 10 adımda bir loglama yapılarak eğitim durumu kaydedilir ve izlenebilir\n",
    "    metric_for_best_model=\"accuracy\", \n",
    "    \n",
    ")\n"
   ]
  },
  {
   "cell_type": "markdown",
   "id": "00bc4dd4",
   "metadata": {},
   "source": [
    "# Model Doğruluk Hesaplama Fonksiyonu"
   ]
  },
  {
   "cell_type": "markdown",
   "id": "b0c112a6",
   "metadata": {},
   "source": [
    "# Bu fonksiyon, modelin tahmin ettiği sınıflarla gerçek etiketleri karşılaştırarak doğruluk (accuracy) değerini hesaplar. Eğitim ve değerlendirme aşamalarında performans ölçümü için kullanılır."
   ]
  },
  {
   "cell_type": "code",
   "execution_count": 10,
   "id": "ff6925e3",
   "metadata": {},
   "outputs": [],
   "source": [
    "# sklearn kütüphanesinden doğruluk hesaplamak için gerekli fonksiyonu içe aktar\n",
    "from sklearn.metrics import accuracy_score\n",
    "# NumPy kütüphanesini içe aktar (sayısal işlemler için)\n",
    "import numpy as np\n",
    "\n",
    "# Model değerlendirme sırasında kullanılacak metrikleri hesaplayan fonksiyon\n",
    "def compute_metrics(eval_pred):\n",
    "    # eval_pred, model çıktısı olan logits ve gerçek etiketleri (labels) içeren bir tuple'dır\n",
    "    logits, labels = eval_pred\n",
    "    # Logits değerlerinden en yüksek olasılığa sahip sınıfı seç (tahminleri çıkar)\n",
    "    predictions = np.argmax(logits, axis=-1)\n",
    "    # Gerçek etiketlerle tahmin edilen sınıfları karşılaştırarak doğruluk oranını hesapla\n",
    "    acc = accuracy_score(labels, predictions)\n",
    "    # Doğruluk oranını sözlük formatında döndür (Trainer bu formatı kullanır)\n",
    "    return {\"accuracy\": acc}\n",
    "\n",
    "\n",
    "\n"
   ]
  },
  {
   "cell_type": "markdown",
   "id": "1cb9c423",
   "metadata": {},
   "source": [
    "# Transformer Trainer Nesnesi Oluşturma"
   ]
  },
  {
   "cell_type": "markdown",
   "id": "954648a8",
   "metadata": {},
   "source": [
    "# Bu kod, modelin eğitim ve değerlendirme süreçlerini yönetmek için Trainer nesnesini yapılandırır ve eğitim parametreleri, veri setleri ile doğruluk hesaplama fonksiyonunu bağlar."
   ]
  },
  {
   "cell_type": "code",
   "execution_count": 11,
   "id": "8bfbe4ac",
   "metadata": {},
   "outputs": [],
   "source": [
    "from transformers import Trainer, EarlyStoppingCallback\n",
    "\n",
    "# Trainer objesi oluşturuluyor\n",
    "trainer = Trainer(\n",
    "    model=model,\n",
    "    args=training_args,\n",
    "    train_dataset=train_dataset,\n",
    "    eval_dataset=test_dataset,\n",
    "    compute_metrics=compute_metrics,\n",
    "    \n",
    ")\n"
   ]
  },
  {
   "cell_type": "code",
   "execution_count": 12,
   "id": "c0aa5619",
   "metadata": {},
   "outputs": [
    {
     "name": "stderr",
     "output_type": "stream",
     "text": [
      "C:\\Users\\atunc\\AppData\\Roaming\\Python\\Python312\\site-packages\\torch\\utils\\data\\dataloader.py:665: UserWarning: 'pin_memory' argument is set as true but no accelerator is found, then device pinned memory won't be used.\n",
      "  warnings.warn(warn_msg)\n"
     ]
    },
    {
     "data": {
      "text/html": [
       "\n",
       "    <div>\n",
       "      \n",
       "      <progress value='425' max='425' style='width:300px; height:20px; vertical-align: middle;'></progress>\n",
       "      [425/425 21:21, Epoch 5/5]\n",
       "    </div>\n",
       "    <table border=\"1\" class=\"dataframe\">\n",
       "  <thead>\n",
       " <tr style=\"text-align: left;\">\n",
       "      <th>Step</th>\n",
       "      <th>Training Loss</th>\n",
       "    </tr>\n",
       "  </thead>\n",
       "  <tbody>\n",
       "    <tr>\n",
       "      <td>10</td>\n",
       "      <td>0.661300</td>\n",
       "    </tr>\n",
       "    <tr>\n",
       "      <td>20</td>\n",
       "      <td>0.368900</td>\n",
       "    </tr>\n",
       "    <tr>\n",
       "      <td>30</td>\n",
       "      <td>0.193100</td>\n",
       "    </tr>\n",
       "    <tr>\n",
       "      <td>40</td>\n",
       "      <td>0.302100</td>\n",
       "    </tr>\n",
       "    <tr>\n",
       "      <td>50</td>\n",
       "      <td>0.055300</td>\n",
       "    </tr>\n",
       "    <tr>\n",
       "      <td>60</td>\n",
       "      <td>0.226500</td>\n",
       "    </tr>\n",
       "    <tr>\n",
       "      <td>70</td>\n",
       "      <td>0.298400</td>\n",
       "    </tr>\n",
       "    <tr>\n",
       "      <td>80</td>\n",
       "      <td>0.343100</td>\n",
       "    </tr>\n",
       "    <tr>\n",
       "      <td>90</td>\n",
       "      <td>0.235500</td>\n",
       "    </tr>\n",
       "    <tr>\n",
       "      <td>100</td>\n",
       "      <td>0.223000</td>\n",
       "    </tr>\n",
       "    <tr>\n",
       "      <td>110</td>\n",
       "      <td>0.481000</td>\n",
       "    </tr>\n",
       "    <tr>\n",
       "      <td>120</td>\n",
       "      <td>0.116200</td>\n",
       "    </tr>\n",
       "    <tr>\n",
       "      <td>130</td>\n",
       "      <td>0.079800</td>\n",
       "    </tr>\n",
       "    <tr>\n",
       "      <td>140</td>\n",
       "      <td>0.136300</td>\n",
       "    </tr>\n",
       "    <tr>\n",
       "      <td>150</td>\n",
       "      <td>0.237800</td>\n",
       "    </tr>\n",
       "    <tr>\n",
       "      <td>160</td>\n",
       "      <td>0.182600</td>\n",
       "    </tr>\n",
       "    <tr>\n",
       "      <td>170</td>\n",
       "      <td>0.199400</td>\n",
       "    </tr>\n",
       "    <tr>\n",
       "      <td>180</td>\n",
       "      <td>0.005900</td>\n",
       "    </tr>\n",
       "    <tr>\n",
       "      <td>190</td>\n",
       "      <td>0.175300</td>\n",
       "    </tr>\n",
       "    <tr>\n",
       "      <td>200</td>\n",
       "      <td>0.181000</td>\n",
       "    </tr>\n",
       "    <tr>\n",
       "      <td>210</td>\n",
       "      <td>0.143600</td>\n",
       "    </tr>\n",
       "    <tr>\n",
       "      <td>220</td>\n",
       "      <td>0.210700</td>\n",
       "    </tr>\n",
       "    <tr>\n",
       "      <td>230</td>\n",
       "      <td>0.348500</td>\n",
       "    </tr>\n",
       "    <tr>\n",
       "      <td>240</td>\n",
       "      <td>0.022600</td>\n",
       "    </tr>\n",
       "    <tr>\n",
       "      <td>250</td>\n",
       "      <td>0.199200</td>\n",
       "    </tr>\n",
       "    <tr>\n",
       "      <td>260</td>\n",
       "      <td>0.006000</td>\n",
       "    </tr>\n",
       "    <tr>\n",
       "      <td>270</td>\n",
       "      <td>0.080100</td>\n",
       "    </tr>\n",
       "    <tr>\n",
       "      <td>280</td>\n",
       "      <td>0.006800</td>\n",
       "    </tr>\n",
       "    <tr>\n",
       "      <td>290</td>\n",
       "      <td>0.076700</td>\n",
       "    </tr>\n",
       "    <tr>\n",
       "      <td>300</td>\n",
       "      <td>0.040200</td>\n",
       "    </tr>\n",
       "    <tr>\n",
       "      <td>310</td>\n",
       "      <td>0.125800</td>\n",
       "    </tr>\n",
       "    <tr>\n",
       "      <td>320</td>\n",
       "      <td>0.034200</td>\n",
       "    </tr>\n",
       "    <tr>\n",
       "      <td>330</td>\n",
       "      <td>0.228100</td>\n",
       "    </tr>\n",
       "    <tr>\n",
       "      <td>340</td>\n",
       "      <td>0.164800</td>\n",
       "    </tr>\n",
       "    <tr>\n",
       "      <td>350</td>\n",
       "      <td>0.072600</td>\n",
       "    </tr>\n",
       "    <tr>\n",
       "      <td>360</td>\n",
       "      <td>0.061800</td>\n",
       "    </tr>\n",
       "    <tr>\n",
       "      <td>370</td>\n",
       "      <td>0.004500</td>\n",
       "    </tr>\n",
       "    <tr>\n",
       "      <td>380</td>\n",
       "      <td>0.037300</td>\n",
       "    </tr>\n",
       "    <tr>\n",
       "      <td>390</td>\n",
       "      <td>0.004500</td>\n",
       "    </tr>\n",
       "    <tr>\n",
       "      <td>400</td>\n",
       "      <td>0.139700</td>\n",
       "    </tr>\n",
       "    <tr>\n",
       "      <td>410</td>\n",
       "      <td>0.061600</td>\n",
       "    </tr>\n",
       "    <tr>\n",
       "      <td>420</td>\n",
       "      <td>0.044600</td>\n",
       "    </tr>\n",
       "  </tbody>\n",
       "</table><p>"
      ],
      "text/plain": [
       "<IPython.core.display.HTML object>"
      ]
     },
     "metadata": {},
     "output_type": "display_data"
    },
    {
     "name": "stderr",
     "output_type": "stream",
     "text": [
      "C:\\Users\\atunc\\AppData\\Roaming\\Python\\Python312\\site-packages\\torch\\utils\\data\\dataloader.py:665: UserWarning: 'pin_memory' argument is set as true but no accelerator is found, then device pinned memory won't be used.\n",
      "  warnings.warn(warn_msg)\n"
     ]
    },
    {
     "data": {
      "text/html": [],
      "text/plain": [
       "<IPython.core.display.HTML object>"
      ]
     },
     "metadata": {},
     "output_type": "display_data"
    },
    {
     "name": "stderr",
     "output_type": "stream",
     "text": [
      "C:\\Users\\atunc\\AppData\\Roaming\\Python\\Python312\\site-packages\\torch\\utils\\data\\dataloader.py:665: UserWarning: 'pin_memory' argument is set as true but no accelerator is found, then device pinned memory won't be used.\n",
      "  warnings.warn(warn_msg)\n"
     ]
    },
    {
     "name": "stdout",
     "output_type": "stream",
     "text": [
      "Train Acc: 0.9897, Train Loss: 0.0386, Eval Acc: 0.8824, Eval Loss: 0.6327\n"
     ]
    }
   ],
   "source": [
    "train_accuracies = []\n",
    "eval_accuracies = []\n",
    "train_losses = []\n",
    "eval_losses = []\n",
    "\n",
    "# 5 epochluk eğitim tek seferde yapılır\n",
    "train_result = trainer.train()\n",
    "\n",
    "# Eğitim sonunda train seti değerlendirme\n",
    "train_metrics = trainer.evaluate(train_dataset)\n",
    "train_accuracies.append(train_metrics.get('eval_accuracy'))\n",
    "train_losses.append(train_metrics.get('eval_loss'))\n",
    "\n",
    "# Eğitim sonunda test seti değerlendirme\n",
    "eval_metrics = trainer.evaluate(test_dataset)\n",
    "eval_accuracies.append(eval_metrics.get('eval_accuracy'))\n",
    "eval_losses.append(eval_metrics.get('eval_loss'))\n",
    "\n",
    "print(f\"Train Acc: {train_accuracies[-1]:.4f}, Train Loss: {train_losses[-1]:.4f}, Eval Acc: {eval_accuracies[-1]:.4f}, Eval Loss: {eval_losses[-1]:.4f}\")"
   ]
  },
  {
   "cell_type": "code",
   "execution_count": 17,
   "id": "2518b155",
   "metadata": {},
   "outputs": [
    {
     "name": "stdout",
     "output_type": "stream",
     "text": [
      "\n",
      "--- Eğitim Tamamlandı ---\n",
      "Son Eğitim Doğruluğu: 0.9897\n",
      "Son Eğitim Değerlendirme Kaybı: 0.0386\n",
      "Son Test Doğruluğu: 0.8824\n",
      "Son Test Kaybı: 0.6327\n"
     ]
    }
   ],
   "source": [
    "print(\"\\n--- Eğitim Tamamlandı ---\")\n",
    "print(f\"Son Eğitim Doğruluğu: {train_accuracies[-1]:.4f}\")\n",
    "print(f\"Son Eğitim Değerlendirme Kaybı: {train_losses[-1]:.4f}\")\n",
    "print(f\"Son Test Doğruluğu: {eval_accuracies[-1]:.4f}\")\n",
    "print(f\"Son Test Kaybı: {eval_losses[-1]:.4f}\")\n"
   ]
  },
  {
   "cell_type": "code",
   "execution_count": 18,
   "id": "8f2aab68",
   "metadata": {},
   "outputs": [
    {
     "name": "stderr",
     "output_type": "stream",
     "text": [
      "C:\\Users\\atunc\\AppData\\Roaming\\Python\\Python312\\site-packages\\torch\\utils\\data\\dataloader.py:665: UserWarning: 'pin_memory' argument is set as true but no accelerator is found, then device pinned memory won't be used.\n",
      "  warnings.warn(warn_msg)\n"
     ]
    },
    {
     "data": {
      "text/html": [],
      "text/plain": [
       "<IPython.core.display.HTML object>"
      ]
     },
     "metadata": {},
     "output_type": "display_data"
    }
   ],
   "source": [
    "# Modelin test seti üzerindeki tahminleri\n",
    "predictions = trainer.predict(test_dataset)\n",
    "\n",
    "# Tahmin edilen sınıf etiketleri\n",
    "y_pred = np.argmax(predictions.predictions, axis=1)\n",
    "\n",
    "# Gerçek sınıf etiketleri\n",
    "y_true = predictions.label_ids\n"
   ]
  },
  {
   "cell_type": "code",
   "execution_count": 19,
   "id": "59106c26",
   "metadata": {},
   "outputs": [
    {
     "name": "stderr",
     "output_type": "stream",
     "text": [
      "C:\\Users\\atunc\\AppData\\Roaming\\Python\\Python312\\site-packages\\torch\\utils\\data\\dataloader.py:665: UserWarning: 'pin_memory' argument is set as true but no accelerator is found, then device pinned memory won't be used.\n",
      "  warnings.warn(warn_msg)\n"
     ]
    },
    {
     "data": {
      "text/html": [],
      "text/plain": [
       "<IPython.core.display.HTML object>"
      ]
     },
     "metadata": {},
     "output_type": "display_data"
    },
    {
     "data": {
      "image/png": "[encoded data removed]",
      "text/plain": [
       "<Figure size 640x480 with 2 Axes>"
      ]
     },
     "metadata": {},
     "output_type": "display_data"
    }
   ],
   "source": [
    "from sklearn.metrics import confusion_matrix, ConfusionMatrixDisplay\n",
    "import matplotlib.pyplot as plt\n",
    "import numpy as np\n",
    "\n",
    "# Model tahminleri\n",
    "predictions = trainer.predict(test_dataset)\n",
    "\n",
    "# Tahmin edilen etiketler\n",
    "y_pred = np.argmax(predictions.predictions, axis=1)\n",
    "\n",
    "# Gerçek etiketler\n",
    "y_true = predictions.label_ids\n",
    "\n",
    "# Confusion Matrix\n",
    "cm = confusion_matrix(y_true, y_pred)\n",
    "\n",
    "# Görselleştirme\n",
    "disp = ConfusionMatrixDisplay(confusion_matrix=cm)\n",
    "disp.plot(cmap='Blues', values_format='d')\n",
    "plt.title(\"Test Seti için Confusion Matrix\")\n",
    "plt.show()\n"
   ]
  },
  {
   "cell_type": "code",
   "execution_count": 20,
   "id": "f04bd402",
   "metadata": {},
   "outputs": [
    {
     "name": "stdout",
     "output_type": "stream",
     "text": [
      "Model ve tokenizer başarıyla kaydedildi.\n"
     ]
    }
   ],
   "source": [
    "# Modeli ve tokenizer'ı belirtilen klasöre kaydet\n",
    "output_dir = \"./results\"\n",
    "\n",
    "model.save_pretrained(output_dir)\n",
    "tokenizer.save_pretrained(output_dir)\n",
    "\n",
    "print(\"Model ve tokenizer başarıyla kaydedildi.\")\n"
   ]
  }
 ],
 "metadata": {
  "kernelspec": {
   "display_name": "base",
   "language": "python",
   "name": "python3"
  },
  "language_info": {
   "codemirror_mode": {
    "name": "ipython",
    "version": 3
   },
   "file_extension": ".py",
   "mimetype": "text/x-python",
   "name": "python",
   "nbconvert_exporter": "python",
   "pygments_lexer": "ipython3",
   "version": "3.12.7"
  }
 },
 "nbformat": 4,
 "nbformat_minor": 5
}
